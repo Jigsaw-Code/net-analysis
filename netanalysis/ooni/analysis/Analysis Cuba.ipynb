{
 "metadata": {
  "language_info": {
   "codemirror_mode": {
    "name": "ipython",
    "version": 3
   },
   "file_extension": ".py",
   "mimetype": "text/x-python",
   "name": "python",
   "nbconvert_exporter": "python",
   "pygments_lexer": "ipython3",
   "version": "3.6.9-final"
  },
  "orig_nbformat": 2,
  "kernelspec": {
   "name": "python3",
   "display_name": "Python 3"
  }
 },
 "nbformat": 4,
 "nbformat_minor": 2,
 "cells": [
  {
   "source": [
    "# Cuba Analysis\n",
    "\n",
    "This report analyzes censorship in Cuba using OONI data."
   ],
   "cell_type": "markdown",
   "metadata": {}
  },
  {
   "cell_type": "code",
   "execution_count": null,
   "metadata": {},
   "outputs": [],
   "source": [
    "%load_ext autoreload\n",
    "%autoreload 2"
   ]
  },
  {
   "cell_type": "code",
   "execution_count": 108,
   "metadata": {},
   "outputs": [],
   "source": [
    "import collections\n",
    "import datetime as dt\n",
    "import enum\n",
    "import gzip\n",
    "import itertools\n",
    "import ipaddress\n",
    "import json\n",
    "import posixpath\n",
    "from pprint import pprint\n",
    "import shutil\n",
    "import sys\n",
    "import tempfile\n",
    "from typing import Iterable, NamedTuple, Tuple, Union\n",
    "from urllib.parse import urlparse\n",
    "\n",
    "import pandas as pd\n",
    "import ujson\n",
    "import IPython.display as idisplay\n",
    "import ipywidgets as widgets\n",
    "\n",
    "try:\n",
    "    import netanalysis\n",
    "except ModuleNotFoundError:\n",
    "    !{sys.executable} -m ensurepip\n",
    "    !{sys.executable} -m pip install --upgrade git+https://github.com/Jigsaw-Code/net-analysis.git\n",
    "\n",
    "import netanalysis.ooni.bucket as ob\n",
    "import netanalysis.ooni.analysis.dns as od\n",
    "from netanalysis.ooni.measurement import Measurement\n",
    "\n",
    "\n",
    "ooni = ob.Bucket()"
   ]
  },
  {
   "source": [
    "## Fetch and save measurement data"
   ],
   "cell_type": "markdown",
   "metadata": {}
  },
  {
   "cell_type": "code",
   "execution_count": 173,
   "metadata": {},
   "outputs": [],
   "source": [
    "import pathlib\n",
    "\n",
    "DATA_DIR = pathlib.Path('/kaggle/working')\n",
    "if not DATA_DIR.is_dir():\n",
    "    DATA_DIR = pathlib.Path.home()\n",
    "DATA_DIR /= 'ooni_data'\n",
    "COUNTRY = 'CU'"
   ]
  },
  {
   "cell_type": "code",
   "execution_count": 10,
   "metadata": {
    "tags": []
   },
   "outputs": [
    {
     "output_type": "stream",
     "name": "stdout",
     "text": [
      "Downloaded 0 bytes.\nEstimated cost: $0.00\nCPU times: user 2.76 s, sys: 296 ms, total: 3.05 s\nWall time: 1min 15s\n"
     ]
    }
   ],
   "source": [
    "%%time\n",
    "# Download files\n",
    "cost_usd_limit = 1.00\n",
    "cost_usd_per_gib = 0.09\n",
    "data_limit_bytes = cost_usd_limit / cost_usd_per_gib * 2**30\n",
    "downloaded_bytes = 0\n",
    "for entry in ooni.list_files(dt.date(2020, 10, 1), dt.date.today(), None, COUNTRY):\n",
    "    local_filename = os.path.join(DATA_DIR, COUNTRY, entry.test_type, posixpath.basename(entry.filename))\n",
    "    idisplay.clear_output(wait=True)\n",
    "    if os.path.isfile(local_filename):\n",
    "        print(f'Skipping {entry.filename}')\n",
    "        continue\n",
    "    if downloaded_bytes + entry.size > data_limit_bytes:\n",
    "        print(f'Stopping: hit data limit of {data_limit_bytes / 2**30} GiB')\n",
    "        break\n",
    "    print(f'Downloading {entry.filename}')\n",
    "    os.makedirs(os.path.dirname(local_filename), exist_ok=True)\n",
    "    with gzip.open(local_filename, mode='wt', encoding='utf-8') as local_file:\n",
    "        with ooni.get_file(entry.filename) as remote_file:\n",
    "            with gzip.GzipFile(fileobj=remote_file, mode='r') as input_file:\n",
    "                for line in input_file:\n",
    "                    # TODO: paralelize IO and CPU\n",
    "                    measurement = ujson.loads(line)\n",
    "                    ujson.dump(ob.trim_measurement(measurement,  1000), local_file)\n",
    "                    local_file.write('\\n')\n",
    "    downloaded_bytes += entry.size\n",
    "\n",
    "idisplay.clear_output(wait=True)\n",
    "print(f'Downloaded {downloaded_bytes:,} bytes.\\nEstimated cost: ${downloaded_bytes / 2**30 / cost_usd_per_gib:.02f}')"
   ]
  },
  {
   "cell_type": "code",
   "execution_count": 7,
   "metadata": {},
   "outputs": [
    {
     "output_type": "stream",
     "name": "stdout",
     "text": [
      "8.0K\t/Users/fortuna/ooni_data/CU/sniblocking\n 40K\t/Users/fortuna/ooni_data/CU/dnscheck\n112K\t/Users/fortuna/ooni_data/CU/facebookmessenger\n 12K\t/Users/fortuna/ooni_data/CU/httpinvalidrequestline\n1.6M\t/Users/fortuna/ooni_data/CU/webconnectivity\n 20K\t/Users/fortuna/ooni_data/CU/psiphon\n 60K\t/Users/fortuna/ooni_data/CU/tor\n112K\t/Users/fortuna/ooni_data/CU/telegram\n 12K\t/Users/fortuna/ooni_data/CU/dash\n4.0K\t/Users/fortuna/ooni_data/CU/urlgetter\n1.1M\t/Users/fortuna/ooni_data/CU/ndt\n 12K\t/Users/fortuna/ooni_data/CU/httpheaderfieldmanipulation\n160K\t/Users/fortuna/ooni_data/CU/whatsapp\n3.2M\t/Users/fortuna/ooni_data/CU\n3.2M\t/Users/fortuna/ooni_data\n"
     ]
    }
   ],
   "source": [
    "!du -h $DATA_DIR"
   ]
  },
  {
   "cell_type": "code",
   "execution_count": 11,
   "metadata": {
    "tags": []
   },
   "outputs": [],
   "source": [
    "def get_local_measurements(directory: str):\n",
    "    with os.scandir(directory) as it:\n",
    "        for entry in it:\n",
    "            with gzip.open(entry.path, 'r') as test_file:\n",
    "                for line in test_file:\n",
    "                    yield ujson.loads(line)\n",
    "\n",
    "def is_ip(hostname):\n",
    "    try:\n",
    "        ipaddress.ip_address(domain)\n",
    "        return True\n",
    "    except ValueError:\n",
    "        return False"
   ]
  },
  {
   "source": [
    "## DNS Analysis\n",
    "\n",
    "Here we analyze the DNS measurements. We load all the web connectivity measurements, and extract each DNS query as a \"DNS Observation\", and put them on a DataFrame. We also build an Evaluator that collects the control observations."
   ],
   "cell_type": "markdown",
   "metadata": {}
  },
  {
   "cell_type": "code",
   "execution_count": 118,
   "metadata": {
    "tags": []
   },
   "outputs": [
    {
     "output_type": "execute_result",
     "data": {
      "text/plain": [
       "                          time client_country  client_asn     resolver_ip  \\\n",
       "1402 2020-11-06 17:26:31+00:00             CU       27725       127.0.0.2   \n",
       "1806 2020-11-05 22:27:35+00:00             CU       27725       127.0.0.2   \n",
       "1807 2020-11-05 22:27:35+00:00             CU       27725       127.0.0.2   \n",
       "1802 2020-11-05 22:27:22+00:00             CU       27725       127.0.0.2   \n",
       "1803 2020-11-05 22:27:22+00:00             CU       27725       127.0.0.2   \n",
       "...                        ...            ...         ...             ...   \n",
       "604  2020-10-20 14:36:44+00:00             CU       27725  200.55.128.252   \n",
       "602  2020-10-20 14:36:44+00:00             CU       27725  200.55.128.252   \n",
       "605  2020-10-20 14:36:39+00:00             CU       27725  200.55.128.252   \n",
       "599  2020-10-20 14:36:39+00:00             CU       27725  200.55.128.252   \n",
       "598  2020-10-20 14:36:39+00:00             CU       27725  200.55.128.252   \n",
       "\n",
       "      resolver_asn                       domain query_type failure status  \\\n",
       "1402         27725                 14ymedio.com          A    None     OK   \n",
       "1806         27725                      rsf.org          A    None     OK   \n",
       "1807         27725                      rsf.org       AAAA    None     OK   \n",
       "1802         27725  medicinacubana.blogspot.com          A    None     OK   \n",
       "1803         27725  medicinacubana.blogspot.com       AAAA    None     OK   \n",
       "...            ...                          ...        ...     ...    ...   \n",
       "604              0               www.vatican.va          A    None     OK   \n",
       "602              0       howtogrowmarijuana.com          A    None     OK   \n",
       "605              0                   www.om.org          A    None     OK   \n",
       "599              0                www.asstr.org          A    None     OK   \n",
       "598              0                  www.tawk.to          A    None     OK   \n",
       "\n",
       "                                                answers  \\\n",
       "1402                                   [176.34.179.218]   \n",
       "1806      [172.67.66.183, 104.25.94.108, 104.25.93.108]   \n",
       "1807  [2606:4700:20::6819:5e6c, 2606:4700:20::ac43:4...   \n",
       "1802                                   [142.250.64.225]   \n",
       "1803                         [2607:f8b0:4008:800::2001]   \n",
       "...                                                 ...   \n",
       "604                                     [185.152.70.33]   \n",
       "602         [104.26.8.152, 172.67.71.153, 104.26.9.152]   \n",
       "605                                     [34.248.104.12]   \n",
       "599                                     [64.71.155.222]   \n",
       "598        [172.67.38.66, 104.22.24.131, 104.22.25.131]   \n",
       "\n",
       "                                           explorer_url  \\\n",
       "1402  https://explorer.ooni.org/measurement/20201106...   \n",
       "1806  https://explorer.ooni.org/measurement/20201105...   \n",
       "1807  https://explorer.ooni.org/measurement/20201105...   \n",
       "1802  https://explorer.ooni.org/measurement/20201105...   \n",
       "1803  https://explorer.ooni.org/measurement/20201105...   \n",
       "...                                                 ...   \n",
       "604   https://explorer.ooni.org/measurement/20201020...   \n",
       "602   https://explorer.ooni.org/measurement/20201020...   \n",
       "605   https://explorer.ooni.org/measurement/20201020...   \n",
       "599   https://explorer.ooni.org/measurement/20201020...   \n",
       "598   https://explorer.ooni.org/measurement/20201020...   \n",
       "\n",
       "                        eval  has_interference  \n",
       "1402   OK_MATCHES_CONTROL_IP                 0  \n",
       "1806   OK_MATCHES_CONTROL_IP                 0  \n",
       "1807  INCONCLUSIVE_CHECK_IPS                 0  \n",
       "1802  INCONCLUSIVE_CHECK_IPS                 0  \n",
       "1803  INCONCLUSIVE_CHECK_IPS                 0  \n",
       "...                      ...               ...  \n",
       "604    OK_MATCHES_CONTROL_IP                 0  \n",
       "602    OK_MATCHES_CONTROL_IP                 0  \n",
       "605   INCONCLUSIVE_CHECK_IPS                 0  \n",
       "599    OK_MATCHES_CONTROL_IP                 0  \n",
       "598    OK_MATCHES_CONTROL_IP                 0  \n",
       "\n",
       "[2576 rows x 13 columns]"
      ],
      "text/html": "<div>\n<style scoped>\n    .dataframe tbody tr th:only-of-type {\n        vertical-align: middle;\n    }\n\n    .dataframe tbody tr th {\n        vertical-align: top;\n    }\n\n    .dataframe thead th {\n        text-align: right;\n    }\n</style>\n<table border=\"1\" class=\"dataframe\">\n  <thead>\n    <tr style=\"text-align: right;\">\n      <th></th>\n      <th>time</th>\n      <th>client_country</th>\n      <th>client_asn</th>\n      <th>resolver_ip</th>\n      <th>resolver_asn</th>\n      <th>domain</th>\n      <th>query_type</th>\n      <th>failure</th>\n      <th>status</th>\n      <th>answers</th>\n      <th>explorer_url</th>\n      <th>eval</th>\n      <th>has_interference</th>\n    </tr>\n  </thead>\n  <tbody>\n    <tr>\n      <th>1402</th>\n      <td>2020-11-06 17:26:31+00:00</td>\n      <td>CU</td>\n      <td>27725</td>\n      <td>127.0.0.2</td>\n      <td>27725</td>\n      <td>14ymedio.com</td>\n      <td>A</td>\n      <td>None</td>\n      <td>OK</td>\n      <td>[176.34.179.218]</td>\n      <td>https://explorer.ooni.org/measurement/20201106...</td>\n      <td>OK_MATCHES_CONTROL_IP</td>\n      <td>0</td>\n    </tr>\n    <tr>\n      <th>1806</th>\n      <td>2020-11-05 22:27:35+00:00</td>\n      <td>CU</td>\n      <td>27725</td>\n      <td>127.0.0.2</td>\n      <td>27725</td>\n      <td>rsf.org</td>\n      <td>A</td>\n      <td>None</td>\n      <td>OK</td>\n      <td>[172.67.66.183, 104.25.94.108, 104.25.93.108]</td>\n      <td>https://explorer.ooni.org/measurement/20201105...</td>\n      <td>OK_MATCHES_CONTROL_IP</td>\n      <td>0</td>\n    </tr>\n    <tr>\n      <th>1807</th>\n      <td>2020-11-05 22:27:35+00:00</td>\n      <td>CU</td>\n      <td>27725</td>\n      <td>127.0.0.2</td>\n      <td>27725</td>\n      <td>rsf.org</td>\n      <td>AAAA</td>\n      <td>None</td>\n      <td>OK</td>\n      <td>[2606:4700:20::6819:5e6c, 2606:4700:20::ac43:4...</td>\n      <td>https://explorer.ooni.org/measurement/20201105...</td>\n      <td>INCONCLUSIVE_CHECK_IPS</td>\n      <td>0</td>\n    </tr>\n    <tr>\n      <th>1802</th>\n      <td>2020-11-05 22:27:22+00:00</td>\n      <td>CU</td>\n      <td>27725</td>\n      <td>127.0.0.2</td>\n      <td>27725</td>\n      <td>medicinacubana.blogspot.com</td>\n      <td>A</td>\n      <td>None</td>\n      <td>OK</td>\n      <td>[142.250.64.225]</td>\n      <td>https://explorer.ooni.org/measurement/20201105...</td>\n      <td>INCONCLUSIVE_CHECK_IPS</td>\n      <td>0</td>\n    </tr>\n    <tr>\n      <th>1803</th>\n      <td>2020-11-05 22:27:22+00:00</td>\n      <td>CU</td>\n      <td>27725</td>\n      <td>127.0.0.2</td>\n      <td>27725</td>\n      <td>medicinacubana.blogspot.com</td>\n      <td>AAAA</td>\n      <td>None</td>\n      <td>OK</td>\n      <td>[2607:f8b0:4008:800::2001]</td>\n      <td>https://explorer.ooni.org/measurement/20201105...</td>\n      <td>INCONCLUSIVE_CHECK_IPS</td>\n      <td>0</td>\n    </tr>\n    <tr>\n      <th>...</th>\n      <td>...</td>\n      <td>...</td>\n      <td>...</td>\n      <td>...</td>\n      <td>...</td>\n      <td>...</td>\n      <td>...</td>\n      <td>...</td>\n      <td>...</td>\n      <td>...</td>\n      <td>...</td>\n      <td>...</td>\n      <td>...</td>\n    </tr>\n    <tr>\n      <th>604</th>\n      <td>2020-10-20 14:36:44+00:00</td>\n      <td>CU</td>\n      <td>27725</td>\n      <td>200.55.128.252</td>\n      <td>0</td>\n      <td>www.vatican.va</td>\n      <td>A</td>\n      <td>None</td>\n      <td>OK</td>\n      <td>[185.152.70.33]</td>\n      <td>https://explorer.ooni.org/measurement/20201020...</td>\n      <td>OK_MATCHES_CONTROL_IP</td>\n      <td>0</td>\n    </tr>\n    <tr>\n      <th>602</th>\n      <td>2020-10-20 14:36:44+00:00</td>\n      <td>CU</td>\n      <td>27725</td>\n      <td>200.55.128.252</td>\n      <td>0</td>\n      <td>howtogrowmarijuana.com</td>\n      <td>A</td>\n      <td>None</td>\n      <td>OK</td>\n      <td>[104.26.8.152, 172.67.71.153, 104.26.9.152]</td>\n      <td>https://explorer.ooni.org/measurement/20201020...</td>\n      <td>OK_MATCHES_CONTROL_IP</td>\n      <td>0</td>\n    </tr>\n    <tr>\n      <th>605</th>\n      <td>2020-10-20 14:36:39+00:00</td>\n      <td>CU</td>\n      <td>27725</td>\n      <td>200.55.128.252</td>\n      <td>0</td>\n      <td>www.om.org</td>\n      <td>A</td>\n      <td>None</td>\n      <td>OK</td>\n      <td>[34.248.104.12]</td>\n      <td>https://explorer.ooni.org/measurement/20201020...</td>\n      <td>INCONCLUSIVE_CHECK_IPS</td>\n      <td>0</td>\n    </tr>\n    <tr>\n      <th>599</th>\n      <td>2020-10-20 14:36:39+00:00</td>\n      <td>CU</td>\n      <td>27725</td>\n      <td>200.55.128.252</td>\n      <td>0</td>\n      <td>www.asstr.org</td>\n      <td>A</td>\n      <td>None</td>\n      <td>OK</td>\n      <td>[64.71.155.222]</td>\n      <td>https://explorer.ooni.org/measurement/20201020...</td>\n      <td>OK_MATCHES_CONTROL_IP</td>\n      <td>0</td>\n    </tr>\n    <tr>\n      <th>598</th>\n      <td>2020-10-20 14:36:39+00:00</td>\n      <td>CU</td>\n      <td>27725</td>\n      <td>200.55.128.252</td>\n      <td>0</td>\n      <td>www.tawk.to</td>\n      <td>A</td>\n      <td>None</td>\n      <td>OK</td>\n      <td>[172.67.38.66, 104.22.24.131, 104.22.25.131]</td>\n      <td>https://explorer.ooni.org/measurement/20201020...</td>\n      <td>OK_MATCHES_CONTROL_IP</td>\n      <td>0</td>\n    </tr>\n  </tbody>\n</table>\n<p>2576 rows × 13 columns</p>\n</div>"
     },
     "metadata": {},
     "execution_count": 118
    }
   ],
   "source": [
    "evaluator: od.Evaluator = od.Evaluator()\n",
    "rows = []\n",
    "for measurement in get_local_measurements(os.path.join(DATA_DIR, COUNTRY, 'webconnectivity')):\n",
    "    m = Measurement(measurement)\n",
    "    domain = m.hostname\n",
    "    if is_ip(domain):\n",
    "        continue\n",
    "    # if domain == 'www.netflix.com':\n",
    "    #     pprint(measurement)\n",
    "    evaluator.add_control(m)\n",
    "    rows.extend([o._asdict() for o in od.get_observations(m)])\n",
    "\n",
    "for row in rows:\n",
    "    evaluation = evaluator.evaluate(row['domain'], row['status'], row['answers'])\n",
    "    row['eval'] = evaluation\n",
    "    row['has_interference'] = 1 if evaluation.startswith('BAD') else 0\n",
    "\n",
    "obs = pd.DataFrame.from_records(rows).sort_values(by='time', ascending=False)\n",
    "del(rows)\n",
    "obs"
   ]
  },
  {
   "source": [
    "### Overview\n",
    "\n",
    "Here you can see the top domains with detected interference, the ASes analyzed, the top response statuses from DNS queries, and the top evaluation results of the observations.\n",
    "\n",
    "We can see that the bad results are dominated by NXDOMAIN responses."
   ],
   "cell_type": "markdown",
   "metadata": {}
  },
  {
   "cell_type": "code",
   "execution_count": 126,
   "metadata": {},
   "outputs": [
    {
     "output_type": "display_data",
     "data": {
      "text/plain": "HBox(children=(Output(layout=Layout(margin='10px'), outputs=({'output_type': 'display_data', 'data': {'text/pl…",
      "application/vnd.jupyter.widget-view+json": {
       "version_major": 2,
       "version_minor": 0,
       "model_id": "2b22c2bb7eb64bc2b4b4adab9506d595"
      }
     },
     "metadata": {}
    }
   ],
   "source": [
    "top_domains = obs.groupby(by='domain')['has_interference'].sum().sort_values(ascending=False)\n",
    "top_ases = obs.value_counts(subset='client_asn')\n",
    "top_statuses = obs.value_counts(subset='status')\n",
    "top_evals = obs.value_counts(subset='eval')\n",
    "\n",
    "display_columns = []\n",
    "for d in [top_domains[:30], top_ases, top_statuses, top_evals]:\n",
    "    w = widgets.Output(layout=widgets.Layout(margin='10px'))\n",
    "    w.append_display_data(d)\n",
    "    display_columns.append(w)\n",
    "widgets.HBox(display_columns, layout=widgets.Layout(background='black'))"
   ]
  },
  {
   "source": [
    "### Domain Result Table\n",
    "\n",
    "This pivot table shows the query count for each domain and evaluation. The domains are sorted by number of interferences detected, and the evaluation results are sorted by frequency."
   ],
   "cell_type": "markdown",
   "metadata": {}
  },
  {
   "cell_type": "code",
   "execution_count": 120,
   "metadata": {},
   "outputs": [
    {
     "output_type": "display_data",
     "data": {
      "text/plain": "client_asn                                      27725                         \\\neval                            OK_MATCHES_CONTROL_IP INCONCLUSIVE_CHECK_IPS   \ndomain                                                                         \nwww.dharmanet.org                                   0                      0   \nwww.topdrawers.com                                  0                      0   \nwww.3wishes.com                                     0                      0   \nwww.mytrans.com.tw                                  0                      0   \nwww.fidh.org                                        1                      0   \nwww.911truth.org                                    0                      0   \nwww.nsa.gov                                         0                      2   \nwww.ilhr.org                                        0                      0   \nwww.tiktok.com                                      0                      0   \nwww.gearthblog.com                                  0                      0   \nkrishna.com                                         0                      0   \nwww.feedtheminds.org                                0                      0   \nwww.ushmm.org                                       0                      1   \nwww.netflix.com                                     0                      2   \nwww.judaismconversion.org                           0                      0   \noccupystreams.org                                   0                      0   \nwww.hackhull.com                                    0                      0   \nweb.wechat.com                                      1                      0   \nweb.telegram.org                                    1                      1   \nweb.unep.org                                        1                      0   \nwarc.jalb.de                                        0                      0   \nweb.archive.org                                     3                      0   \nwedo.org                                            2                      0   \nweblogs.us                                          1                      0   \nwebmail.sso.bluewin.ch                              0                      0   \nvoice.yahoo.jajah.com                               0                      0   \nweedfarmer.com                                      1                      0   \nwhitehonor.com                                      2                      1   \nwickr.com                                           1                      0   \nwikidata.org                                        0                      3   \nw3schools.com                                       1                      0   \nzoomshare.com                                       2                      0   \nvimeo.com                                           1                      0   \nvideo.twimg.com                                     1                      1   \ntutanota.com                                        1                      1   \ntvants.uptodown.com                                 0                      1   \ntwilight.ws                                         2                      0   \ntwitpic.com                                         1                      0   \ntwitter.com                                         8                      0   \ntx.me                                               1                      0   \ntytnetwork.com                                      1                      1   \nultrasurf.us                                        3                      2   \nunpo.org                                            2                      1   \nupload.twitter.com                                  1                      0   \nuploaded.to                                         2                      0   \nuse-application-dns.net                             0                      2   \nveracrypt.codeplex.com                              1                      0   \nvesselthefilm.com                                   1                      0   \nvho.org                                             1                      1   \nviacampesina.org                                    1                      0   \nvideo.google.com                                    0                      2   \nwikihow.com                                         1                      1   \nwitness.org                                         1                      0   \nwikileaks.org                                       1                      0   \nwww.absinth.com                                     2                      0   \nwww.4chan.org                                       2                      0   \nwww.4online-gambling.com                            2                      0   \nwww.4shared.com                                     2                      0   \nwww.888casino.com                                   1                      0   \nwww.89.com                                          2                      0   \nwww.911memorial.org                                 1                      0   \nwww.abcunderwear.com                                2                      0   \nwww.abortionno.org                                  1                      0   \nwww.absolut.com                                     0                      2   \nwilpf.org                                           1                      0   \nwww.accessnow.org                                   1                      1   \nwww.acdi-cida.gc.ca                                 0                      2   \nwww.aceshigh.com                                    2                      0   \nwww.acquisitionx.com                                1                      0   \nwww.actionaid.org                                   2                      0   \nwww.adl.org                                         1                      0   \nwww.adventist.org                                   2                      1   \nwww.advocate.com                                    2                      0   \nwww.43things.com                                    0                      1   \nwww.2shared.com                                     2                      0   \nwww.2ddepot.com                                     1                      0   \nwww.23.org                                          1                      0   \nwire.com                                            1                      0   \ntriviasecurity.net                                  2                      1   \nwkkf.org                                            2                      0   \nwomeninblack.org                                    1                      1   \nwordpress.com                                       1                      0   \nwordpress.org                                       2                      0   \nworld.internationalism.org                          1                      1   \nworldofwarcraft.com                                 0                      1   \nworldsingles.com                                    0                      2   \nwrite.as                                            1                      1   \nwupj.org                                            2                      1   \nwwf.panda.org                                       1                      0   \nwww.100webspace.com                                 1                      0   \nwww.150m.com                                        1                      0   \nwww.163.com                                         0                      2   \nwww.1800respect.org.au                              1                      1   \nwww.1and1.com                                       1                      0   \nturbobit.net                                        3                      0   \ntranslator.babylon-software.com                     1                      0   \ntrello.com                                          0                      1   \nsites.google.com                                    0                      3   \nsfsi.org                                            2                      1   \nshadowsocks.org                                     1                      1   \n\nclient_asn                                                                    \\\neval                            INCONCLUSIVE_BAD_CONTROL BAD_STATUS_NXDOMAIN   \ndomain                                                                         \nwww.dharmanet.org                                      0                   4   \nwww.topdrawers.com                                     0                   2   \nwww.3wishes.com                                        0                   2   \nwww.mytrans.com.tw                                     0                   2   \nwww.fidh.org                                           0                   2   \nwww.911truth.org                                       0                   2   \nwww.nsa.gov                                            0                   2   \nwww.ilhr.org                                           0                   2   \nwww.tiktok.com                                         0                   2   \nwww.gearthblog.com                                     0                   2   \nkrishna.com                                            0                   2   \nwww.feedtheminds.org                                   0                   2   \nwww.ushmm.org                                          0                   2   \nwww.netflix.com                                        0                   2   \nwww.judaismconversion.org                              0                   2   \noccupystreams.org                                      0                   2   \nwww.hackhull.com                                       0                   2   \nweb.wechat.com                                         0                   0   \nweb.telegram.org                                       0                   0   \nweb.unep.org                                           0                   0   \nwarc.jalb.de                                           0                   0   \nweb.archive.org                                        0                   0   \nwedo.org                                               0                   0   \nweblogs.us                                             0                   0   \nwebmail.sso.bluewin.ch                                 0                   0   \nvoice.yahoo.jajah.com                                  0                   0   \nweedfarmer.com                                         0                   0   \nwhitehonor.com                                         0                   0   \nwickr.com                                              0                   0   \nwikidata.org                                           0                   0   \nw3schools.com                                          0                   0   \nzoomshare.com                                          0                   0   \nvimeo.com                                              0                   0   \nvideo.twimg.com                                        0                   0   \ntutanota.com                                           0                   0   \ntvants.uptodown.com                                    0                   0   \ntwilight.ws                                            0                   0   \ntwitpic.com                                            0                   0   \ntwitter.com                                            0                   0   \ntx.me                                                  0                   0   \ntytnetwork.com                                         0                   0   \nultrasurf.us                                           0                   0   \nunpo.org                                               0                   0   \nupload.twitter.com                                     0                   0   \nuploaded.to                                            0                   0   \nuse-application-dns.net                                0                   0   \nveracrypt.codeplex.com                                 0                   0   \nvesselthefilm.com                                      0                   0   \nvho.org                                                0                   0   \nviacampesina.org                                       0                   0   \nvideo.google.com                                       0                   0   \nwikihow.com                                            0                   0   \nwitness.org                                            0                   0   \nwikileaks.org                                          0                   0   \nwww.absinth.com                                        0                   0   \nwww.4chan.org                                          0                   0   \nwww.4online-gambling.com                               0                   0   \nwww.4shared.com                                        0                   0   \nwww.888casino.com                                      0                   0   \nwww.89.com                                             0                   0   \nwww.911memorial.org                                    0                   0   \nwww.abcunderwear.com                                   0                   0   \nwww.abortionno.org                                     0                   0   \nwww.absolut.com                                        0                   0   \nwilpf.org                                              0                   0   \nwww.accessnow.org                                      0                   0   \nwww.acdi-cida.gc.ca                                    0                   0   \nwww.aceshigh.com                                       0                   0   \nwww.acquisitionx.com                                   0                   0   \nwww.actionaid.org                                      0                   0   \nwww.adl.org                                            0                   0   \nwww.adventist.org                                      0                   0   \nwww.advocate.com                                       0                   0   \nwww.43things.com                                       0                   0   \nwww.2shared.com                                        0                   0   \nwww.2ddepot.com                                        0                   0   \nwww.23.org                                             0                   0   \nwire.com                                               0                   0   \ntriviasecurity.net                                     0                   0   \nwkkf.org                                               0                   0   \nwomeninblack.org                                       0                   0   \nwordpress.com                                          0                   0   \nwordpress.org                                          0                   0   \nworld.internationalism.org                             0                   0   \nworldofwarcraft.com                                    0                   0   \nworldsingles.com                                       0                   0   \nwrite.as                                               0                   0   \nwupj.org                                               0                   0   \nwwf.panda.org                                          0                   0   \nwww.100webspace.com                                    0                   0   \nwww.150m.com                                           0                   0   \nwww.163.com                                            0                   0   \nwww.1800respect.org.au                                 0                   0   \nwww.1and1.com                                          0                   0   \nturbobit.net                                           0                   0   \ntranslator.babylon-software.com                        0                   0   \ntrello.com                                             0                   0   \nsites.google.com                                       0                   0   \nsfsi.org                                               0                   0   \nshadowsocks.org                                        0                   0   \n\nclient_asn                                                                    \neval                            OK_MATCHES_CONTROL_ERROR BAD_STATUS_SERVFAIL  \ndomain                                                                        \nwww.dharmanet.org                                      0                   0  \nwww.topdrawers.com                                     0                   2  \nwww.3wishes.com                                        0                   0  \nwww.mytrans.com.tw                                     0                   0  \nwww.fidh.org                                           0                   0  \nwww.911truth.org                                       0                   0  \nwww.nsa.gov                                            0                   0  \nwww.ilhr.org                                           0                   0  \nwww.tiktok.com                                         0                   0  \nwww.gearthblog.com                                     0                   0  \nkrishna.com                                            0                   0  \nwww.feedtheminds.org                                   0                   0  \nwww.ushmm.org                                          0                   0  \nwww.netflix.com                                        0                   0  \nwww.judaismconversion.org                              0                   0  \noccupystreams.org                                      0                   0  \nwww.hackhull.com                                       0                   0  \nweb.wechat.com                                         0                   0  \nweb.telegram.org                                       0                   0  \nweb.unep.org                                           0                   0  \nwarc.jalb.de                                           2                   0  \nweb.archive.org                                        0                   0  \nwedo.org                                               0                   0  \nweblogs.us                                             0                   0  \nwebmail.sso.bluewin.ch                                 2                   0  \nvoice.yahoo.jajah.com                                  4                   0  \nweedfarmer.com                                         0                   0  \nwhitehonor.com                                         0                   0  \nwickr.com                                              0                   0  \nwikidata.org                                           0                   0  \nw3schools.com                                          0                   0  \nzoomshare.com                                          0                   0  \nvimeo.com                                              0                   0  \nvideo.twimg.com                                        0                   0  \ntutanota.com                                           0                   0  \ntvants.uptodown.com                                    0                   0  \ntwilight.ws                                            0                   0  \ntwitpic.com                                            0                   0  \ntwitter.com                                            0                   0  \ntx.me                                                  0                   0  \ntytnetwork.com                                         0                   0  \nultrasurf.us                                           0                   0  \nunpo.org                                               0                   0  \nupload.twitter.com                                     0                   0  \nuploaded.to                                            0                   0  \nuse-application-dns.net                                0                   0  \nveracrypt.codeplex.com                                 0                   0  \nvesselthefilm.com                                      0                   0  \nvho.org                                                0                   0  \nviacampesina.org                                       0                   0  \nvideo.google.com                                       0                   0  \nwikihow.com                                            0                   0  \nwitness.org                                            0                   0  \nwikileaks.org                                          0                   0  \nwww.absinth.com                                        0                   0  \nwww.4chan.org                                          0                   0  \nwww.4online-gambling.com                               0                   0  \nwww.4shared.com                                        0                   0  \nwww.888casino.com                                      0                   0  \nwww.89.com                                             0                   0  \nwww.911memorial.org                                    0                   0  \nwww.abcunderwear.com                                   0                   0  \nwww.abortionno.org                                     0                   0  \nwww.absolut.com                                        0                   0  \nwilpf.org                                              0                   0  \nwww.accessnow.org                                      0                   0  \nwww.acdi-cida.gc.ca                                    0                   0  \nwww.aceshigh.com                                       0                   0  \nwww.acquisitionx.com                                   0                   0  \nwww.actionaid.org                                      0                   0  \nwww.adl.org                                            0                   0  \nwww.adventist.org                                      0                   0  \nwww.advocate.com                                       0                   0  \nwww.43things.com                                       0                   0  \nwww.2shared.com                                        0                   0  \nwww.2ddepot.com                                        0                   0  \nwww.23.org                                             0                   0  \nwire.com                                               0                   0  \ntriviasecurity.net                                     0                   0  \nwkkf.org                                               0                   0  \nwomeninblack.org                                       0                   0  \nwordpress.com                                          0                   0  \nwordpress.org                                          0                   0  \nworld.internationalism.org                             0                   0  \nworldofwarcraft.com                                    0                   0  \nworldsingles.com                                       0                   0  \nwrite.as                                               0                   0  \nwupj.org                                               0                   0  \nwwf.panda.org                                          0                   0  \nwww.100webspace.com                                    0                   0  \nwww.150m.com                                           0                   0  \nwww.163.com                                            0                   0  \nwww.1800respect.org.au                                 0                   0  \nwww.1and1.com                                          0                   0  \nturbobit.net                                           0                   0  \ntranslator.babylon-software.com                        0                   0  \ntrello.com                                             0                   0  \nsites.google.com                                       0                   0  \nsfsi.org                                               0                   0  \nshadowsocks.org                                        0                   0  ",
      "text/html": "<div>\n<style scoped>\n    .dataframe tbody tr th:only-of-type {\n        vertical-align: middle;\n    }\n\n    .dataframe tbody tr th {\n        vertical-align: top;\n    }\n\n    .dataframe thead tr th {\n        text-align: left;\n    }\n\n    .dataframe thead tr:last-of-type th {\n        text-align: right;\n    }\n</style>\n<table border=\"1\" class=\"dataframe\">\n  <thead>\n    <tr>\n      <th>client_asn</th>\n      <th colspan=\"6\" halign=\"left\">27725</th>\n    </tr>\n    <tr>\n      <th>eval</th>\n      <th>OK_MATCHES_CONTROL_IP</th>\n      <th>INCONCLUSIVE_CHECK_IPS</th>\n      <th>INCONCLUSIVE_BAD_CONTROL</th>\n      <th>BAD_STATUS_NXDOMAIN</th>\n      <th>OK_MATCHES_CONTROL_ERROR</th>\n      <th>BAD_STATUS_SERVFAIL</th>\n    </tr>\n    <tr>\n      <th>domain</th>\n      <th></th>\n      <th></th>\n      <th></th>\n      <th></th>\n      <th></th>\n      <th></th>\n    </tr>\n  </thead>\n  <tbody>\n    <tr>\n      <th>www.dharmanet.org</th>\n      <td>0</td>\n      <td>0</td>\n      <td>0</td>\n      <td>4</td>\n      <td>0</td>\n      <td>0</td>\n    </tr>\n    <tr>\n      <th>www.topdrawers.com</th>\n      <td>0</td>\n      <td>0</td>\n      <td>0</td>\n      <td>2</td>\n      <td>0</td>\n      <td>2</td>\n    </tr>\n    <tr>\n      <th>www.3wishes.com</th>\n      <td>0</td>\n      <td>0</td>\n      <td>0</td>\n      <td>2</td>\n      <td>0</td>\n      <td>0</td>\n    </tr>\n    <tr>\n      <th>www.mytrans.com.tw</th>\n      <td>0</td>\n      <td>0</td>\n      <td>0</td>\n      <td>2</td>\n      <td>0</td>\n      <td>0</td>\n    </tr>\n    <tr>\n      <th>www.fidh.org</th>\n      <td>1</td>\n      <td>0</td>\n      <td>0</td>\n      <td>2</td>\n      <td>0</td>\n      <td>0</td>\n    </tr>\n    <tr>\n      <th>www.911truth.org</th>\n      <td>0</td>\n      <td>0</td>\n      <td>0</td>\n      <td>2</td>\n      <td>0</td>\n      <td>0</td>\n    </tr>\n    <tr>\n      <th>www.nsa.gov</th>\n      <td>0</td>\n      <td>2</td>\n      <td>0</td>\n      <td>2</td>\n      <td>0</td>\n      <td>0</td>\n    </tr>\n    <tr>\n      <th>www.ilhr.org</th>\n      <td>0</td>\n      <td>0</td>\n      <td>0</td>\n      <td>2</td>\n      <td>0</td>\n      <td>0</td>\n    </tr>\n    <tr>\n      <th>www.tiktok.com</th>\n      <td>0</td>\n      <td>0</td>\n      <td>0</td>\n      <td>2</td>\n      <td>0</td>\n      <td>0</td>\n    </tr>\n    <tr>\n      <th>www.gearthblog.com</th>\n      <td>0</td>\n      <td>0</td>\n      <td>0</td>\n      <td>2</td>\n      <td>0</td>\n      <td>0</td>\n    </tr>\n    <tr>\n      <th>krishna.com</th>\n      <td>0</td>\n      <td>0</td>\n      <td>0</td>\n      <td>2</td>\n      <td>0</td>\n      <td>0</td>\n    </tr>\n    <tr>\n      <th>www.feedtheminds.org</th>\n      <td>0</td>\n      <td>0</td>\n      <td>0</td>\n      <td>2</td>\n      <td>0</td>\n      <td>0</td>\n    </tr>\n    <tr>\n      <th>www.ushmm.org</th>\n      <td>0</td>\n      <td>1</td>\n      <td>0</td>\n      <td>2</td>\n      <td>0</td>\n      <td>0</td>\n    </tr>\n    <tr>\n      <th>www.netflix.com</th>\n      <td>0</td>\n      <td>2</td>\n      <td>0</td>\n      <td>2</td>\n      <td>0</td>\n      <td>0</td>\n    </tr>\n    <tr>\n      <th>www.judaismconversion.org</th>\n      <td>0</td>\n      <td>0</td>\n      <td>0</td>\n      <td>2</td>\n      <td>0</td>\n      <td>0</td>\n    </tr>\n    <tr>\n      <th>occupystreams.org</th>\n      <td>0</td>\n      <td>0</td>\n      <td>0</td>\n      <td>2</td>\n      <td>0</td>\n      <td>0</td>\n    </tr>\n    <tr>\n      <th>www.hackhull.com</th>\n      <td>0</td>\n      <td>0</td>\n      <td>0</td>\n      <td>2</td>\n      <td>0</td>\n      <td>0</td>\n    </tr>\n    <tr>\n      <th>web.wechat.com</th>\n      <td>1</td>\n      <td>0</td>\n      <td>0</td>\n      <td>0</td>\n      <td>0</td>\n      <td>0</td>\n    </tr>\n    <tr>\n      <th>web.telegram.org</th>\n      <td>1</td>\n      <td>1</td>\n      <td>0</td>\n      <td>0</td>\n      <td>0</td>\n      <td>0</td>\n    </tr>\n    <tr>\n      <th>web.unep.org</th>\n      <td>1</td>\n      <td>0</td>\n      <td>0</td>\n      <td>0</td>\n      <td>0</td>\n      <td>0</td>\n    </tr>\n    <tr>\n      <th>warc.jalb.de</th>\n      <td>0</td>\n      <td>0</td>\n      <td>0</td>\n      <td>0</td>\n      <td>2</td>\n      <td>0</td>\n    </tr>\n    <tr>\n      <th>web.archive.org</th>\n      <td>3</td>\n      <td>0</td>\n      <td>0</td>\n      <td>0</td>\n      <td>0</td>\n      <td>0</td>\n    </tr>\n    <tr>\n      <th>wedo.org</th>\n      <td>2</td>\n      <td>0</td>\n      <td>0</td>\n      <td>0</td>\n      <td>0</td>\n      <td>0</td>\n    </tr>\n    <tr>\n      <th>weblogs.us</th>\n      <td>1</td>\n      <td>0</td>\n      <td>0</td>\n      <td>0</td>\n      <td>0</td>\n      <td>0</td>\n    </tr>\n    <tr>\n      <th>webmail.sso.bluewin.ch</th>\n      <td>0</td>\n      <td>0</td>\n      <td>0</td>\n      <td>0</td>\n      <td>2</td>\n      <td>0</td>\n    </tr>\n    <tr>\n      <th>voice.yahoo.jajah.com</th>\n      <td>0</td>\n      <td>0</td>\n      <td>0</td>\n      <td>0</td>\n      <td>4</td>\n      <td>0</td>\n    </tr>\n    <tr>\n      <th>weedfarmer.com</th>\n      <td>1</td>\n      <td>0</td>\n      <td>0</td>\n      <td>0</td>\n      <td>0</td>\n      <td>0</td>\n    </tr>\n    <tr>\n      <th>whitehonor.com</th>\n      <td>2</td>\n      <td>1</td>\n      <td>0</td>\n      <td>0</td>\n      <td>0</td>\n      <td>0</td>\n    </tr>\n    <tr>\n      <th>wickr.com</th>\n      <td>1</td>\n      <td>0</td>\n      <td>0</td>\n      <td>0</td>\n      <td>0</td>\n      <td>0</td>\n    </tr>\n    <tr>\n      <th>wikidata.org</th>\n      <td>0</td>\n      <td>3</td>\n      <td>0</td>\n      <td>0</td>\n      <td>0</td>\n      <td>0</td>\n    </tr>\n    <tr>\n      <th>w3schools.com</th>\n      <td>1</td>\n      <td>0</td>\n      <td>0</td>\n      <td>0</td>\n      <td>0</td>\n      <td>0</td>\n    </tr>\n    <tr>\n      <th>zoomshare.com</th>\n      <td>2</td>\n      <td>0</td>\n      <td>0</td>\n      <td>0</td>\n      <td>0</td>\n      <td>0</td>\n    </tr>\n    <tr>\n      <th>vimeo.com</th>\n      <td>1</td>\n      <td>0</td>\n      <td>0</td>\n      <td>0</td>\n      <td>0</td>\n      <td>0</td>\n    </tr>\n    <tr>\n      <th>video.twimg.com</th>\n      <td>1</td>\n      <td>1</td>\n      <td>0</td>\n      <td>0</td>\n      <td>0</td>\n      <td>0</td>\n    </tr>\n    <tr>\n      <th>tutanota.com</th>\n      <td>1</td>\n      <td>1</td>\n      <td>0</td>\n      <td>0</td>\n      <td>0</td>\n      <td>0</td>\n    </tr>\n    <tr>\n      <th>tvants.uptodown.com</th>\n      <td>0</td>\n      <td>1</td>\n      <td>0</td>\n      <td>0</td>\n      <td>0</td>\n      <td>0</td>\n    </tr>\n    <tr>\n      <th>twilight.ws</th>\n      <td>2</td>\n      <td>0</td>\n      <td>0</td>\n      <td>0</td>\n      <td>0</td>\n      <td>0</td>\n    </tr>\n    <tr>\n      <th>twitpic.com</th>\n      <td>1</td>\n      <td>0</td>\n      <td>0</td>\n      <td>0</td>\n      <td>0</td>\n      <td>0</td>\n    </tr>\n    <tr>\n      <th>twitter.com</th>\n      <td>8</td>\n      <td>0</td>\n      <td>0</td>\n      <td>0</td>\n      <td>0</td>\n      <td>0</td>\n    </tr>\n    <tr>\n      <th>tx.me</th>\n      <td>1</td>\n      <td>0</td>\n      <td>0</td>\n      <td>0</td>\n      <td>0</td>\n      <td>0</td>\n    </tr>\n    <tr>\n      <th>tytnetwork.com</th>\n      <td>1</td>\n      <td>1</td>\n      <td>0</td>\n      <td>0</td>\n      <td>0</td>\n      <td>0</td>\n    </tr>\n    <tr>\n      <th>ultrasurf.us</th>\n      <td>3</td>\n      <td>2</td>\n      <td>0</td>\n      <td>0</td>\n      <td>0</td>\n      <td>0</td>\n    </tr>\n    <tr>\n      <th>unpo.org</th>\n      <td>2</td>\n      <td>1</td>\n      <td>0</td>\n      <td>0</td>\n      <td>0</td>\n      <td>0</td>\n    </tr>\n    <tr>\n      <th>upload.twitter.com</th>\n      <td>1</td>\n      <td>0</td>\n      <td>0</td>\n      <td>0</td>\n      <td>0</td>\n      <td>0</td>\n    </tr>\n    <tr>\n      <th>uploaded.to</th>\n      <td>2</td>\n      <td>0</td>\n      <td>0</td>\n      <td>0</td>\n      <td>0</td>\n      <td>0</td>\n    </tr>\n    <tr>\n      <th>use-application-dns.net</th>\n      <td>0</td>\n      <td>2</td>\n      <td>0</td>\n      <td>0</td>\n      <td>0</td>\n      <td>0</td>\n    </tr>\n    <tr>\n      <th>veracrypt.codeplex.com</th>\n      <td>1</td>\n      <td>0</td>\n      <td>0</td>\n      <td>0</td>\n      <td>0</td>\n      <td>0</td>\n    </tr>\n    <tr>\n      <th>vesselthefilm.com</th>\n      <td>1</td>\n      <td>0</td>\n      <td>0</td>\n      <td>0</td>\n      <td>0</td>\n      <td>0</td>\n    </tr>\n    <tr>\n      <th>vho.org</th>\n      <td>1</td>\n      <td>1</td>\n      <td>0</td>\n      <td>0</td>\n      <td>0</td>\n      <td>0</td>\n    </tr>\n    <tr>\n      <th>viacampesina.org</th>\n      <td>1</td>\n      <td>0</td>\n      <td>0</td>\n      <td>0</td>\n      <td>0</td>\n      <td>0</td>\n    </tr>\n    <tr>\n      <th>video.google.com</th>\n      <td>0</td>\n      <td>2</td>\n      <td>0</td>\n      <td>0</td>\n      <td>0</td>\n      <td>0</td>\n    </tr>\n    <tr>\n      <th>wikihow.com</th>\n      <td>1</td>\n      <td>1</td>\n      <td>0</td>\n      <td>0</td>\n      <td>0</td>\n      <td>0</td>\n    </tr>\n    <tr>\n      <th>witness.org</th>\n      <td>1</td>\n      <td>0</td>\n      <td>0</td>\n      <td>0</td>\n      <td>0</td>\n      <td>0</td>\n    </tr>\n    <tr>\n      <th>wikileaks.org</th>\n      <td>1</td>\n      <td>0</td>\n      <td>0</td>\n      <td>0</td>\n      <td>0</td>\n      <td>0</td>\n    </tr>\n    <tr>\n      <th>www.absinth.com</th>\n      <td>2</td>\n      <td>0</td>\n      <td>0</td>\n      <td>0</td>\n      <td>0</td>\n      <td>0</td>\n    </tr>\n    <tr>\n      <th>www.4chan.org</th>\n      <td>2</td>\n      <td>0</td>\n      <td>0</td>\n      <td>0</td>\n      <td>0</td>\n      <td>0</td>\n    </tr>\n    <tr>\n      <th>www.4online-gambling.com</th>\n      <td>2</td>\n      <td>0</td>\n      <td>0</td>\n      <td>0</td>\n      <td>0</td>\n      <td>0</td>\n    </tr>\n    <tr>\n      <th>www.4shared.com</th>\n      <td>2</td>\n      <td>0</td>\n      <td>0</td>\n      <td>0</td>\n      <td>0</td>\n      <td>0</td>\n    </tr>\n    <tr>\n      <th>www.888casino.com</th>\n      <td>1</td>\n      <td>0</td>\n      <td>0</td>\n      <td>0</td>\n      <td>0</td>\n      <td>0</td>\n    </tr>\n    <tr>\n      <th>www.89.com</th>\n      <td>2</td>\n      <td>0</td>\n      <td>0</td>\n      <td>0</td>\n      <td>0</td>\n      <td>0</td>\n    </tr>\n    <tr>\n      <th>www.911memorial.org</th>\n      <td>1</td>\n      <td>0</td>\n      <td>0</td>\n      <td>0</td>\n      <td>0</td>\n      <td>0</td>\n    </tr>\n    <tr>\n      <th>www.abcunderwear.com</th>\n      <td>2</td>\n      <td>0</td>\n      <td>0</td>\n      <td>0</td>\n      <td>0</td>\n      <td>0</td>\n    </tr>\n    <tr>\n      <th>www.abortionno.org</th>\n      <td>1</td>\n      <td>0</td>\n      <td>0</td>\n      <td>0</td>\n      <td>0</td>\n      <td>0</td>\n    </tr>\n    <tr>\n      <th>www.absolut.com</th>\n      <td>0</td>\n      <td>2</td>\n      <td>0</td>\n      <td>0</td>\n      <td>0</td>\n      <td>0</td>\n    </tr>\n    <tr>\n      <th>wilpf.org</th>\n      <td>1</td>\n      <td>0</td>\n      <td>0</td>\n      <td>0</td>\n      <td>0</td>\n      <td>0</td>\n    </tr>\n    <tr>\n      <th>www.accessnow.org</th>\n      <td>1</td>\n      <td>1</td>\n      <td>0</td>\n      <td>0</td>\n      <td>0</td>\n      <td>0</td>\n    </tr>\n    <tr>\n      <th>www.acdi-cida.gc.ca</th>\n      <td>0</td>\n      <td>2</td>\n      <td>0</td>\n      <td>0</td>\n      <td>0</td>\n      <td>0</td>\n    </tr>\n    <tr>\n      <th>www.aceshigh.com</th>\n      <td>2</td>\n      <td>0</td>\n      <td>0</td>\n      <td>0</td>\n      <td>0</td>\n      <td>0</td>\n    </tr>\n    <tr>\n      <th>www.acquisitionx.com</th>\n      <td>1</td>\n      <td>0</td>\n      <td>0</td>\n      <td>0</td>\n      <td>0</td>\n      <td>0</td>\n    </tr>\n    <tr>\n      <th>www.actionaid.org</th>\n      <td>2</td>\n      <td>0</td>\n      <td>0</td>\n      <td>0</td>\n      <td>0</td>\n      <td>0</td>\n    </tr>\n    <tr>\n      <th>www.adl.org</th>\n      <td>1</td>\n      <td>0</td>\n      <td>0</td>\n      <td>0</td>\n      <td>0</td>\n      <td>0</td>\n    </tr>\n    <tr>\n      <th>www.adventist.org</th>\n      <td>2</td>\n      <td>1</td>\n      <td>0</td>\n      <td>0</td>\n      <td>0</td>\n      <td>0</td>\n    </tr>\n    <tr>\n      <th>www.advocate.com</th>\n      <td>2</td>\n      <td>0</td>\n      <td>0</td>\n      <td>0</td>\n      <td>0</td>\n      <td>0</td>\n    </tr>\n    <tr>\n      <th>www.43things.com</th>\n      <td>0</td>\n      <td>1</td>\n      <td>0</td>\n      <td>0</td>\n      <td>0</td>\n      <td>0</td>\n    </tr>\n    <tr>\n      <th>www.2shared.com</th>\n      <td>2</td>\n      <td>0</td>\n      <td>0</td>\n      <td>0</td>\n      <td>0</td>\n      <td>0</td>\n    </tr>\n    <tr>\n      <th>www.2ddepot.com</th>\n      <td>1</td>\n      <td>0</td>\n      <td>0</td>\n      <td>0</td>\n      <td>0</td>\n      <td>0</td>\n    </tr>\n    <tr>\n      <th>www.23.org</th>\n      <td>1</td>\n      <td>0</td>\n      <td>0</td>\n      <td>0</td>\n      <td>0</td>\n      <td>0</td>\n    </tr>\n    <tr>\n      <th>wire.com</th>\n      <td>1</td>\n      <td>0</td>\n      <td>0</td>\n      <td>0</td>\n      <td>0</td>\n      <td>0</td>\n    </tr>\n    <tr>\n      <th>triviasecurity.net</th>\n      <td>2</td>\n      <td>1</td>\n      <td>0</td>\n      <td>0</td>\n      <td>0</td>\n      <td>0</td>\n    </tr>\n    <tr>\n      <th>wkkf.org</th>\n      <td>2</td>\n      <td>0</td>\n      <td>0</td>\n      <td>0</td>\n      <td>0</td>\n      <td>0</td>\n    </tr>\n    <tr>\n      <th>womeninblack.org</th>\n      <td>1</td>\n      <td>1</td>\n      <td>0</td>\n      <td>0</td>\n      <td>0</td>\n      <td>0</td>\n    </tr>\n    <tr>\n      <th>wordpress.com</th>\n      <td>1</td>\n      <td>0</td>\n      <td>0</td>\n      <td>0</td>\n      <td>0</td>\n      <td>0</td>\n    </tr>\n    <tr>\n      <th>wordpress.org</th>\n      <td>2</td>\n      <td>0</td>\n      <td>0</td>\n      <td>0</td>\n      <td>0</td>\n      <td>0</td>\n    </tr>\n    <tr>\n      <th>world.internationalism.org</th>\n      <td>1</td>\n      <td>1</td>\n      <td>0</td>\n      <td>0</td>\n      <td>0</td>\n      <td>0</td>\n    </tr>\n    <tr>\n      <th>worldofwarcraft.com</th>\n      <td>0</td>\n      <td>1</td>\n      <td>0</td>\n      <td>0</td>\n      <td>0</td>\n      <td>0</td>\n    </tr>\n    <tr>\n      <th>worldsingles.com</th>\n      <td>0</td>\n      <td>2</td>\n      <td>0</td>\n      <td>0</td>\n      <td>0</td>\n      <td>0</td>\n    </tr>\n    <tr>\n      <th>write.as</th>\n      <td>1</td>\n      <td>1</td>\n      <td>0</td>\n      <td>0</td>\n      <td>0</td>\n      <td>0</td>\n    </tr>\n    <tr>\n      <th>wupj.org</th>\n      <td>2</td>\n      <td>1</td>\n      <td>0</td>\n      <td>0</td>\n      <td>0</td>\n      <td>0</td>\n    </tr>\n    <tr>\n      <th>wwf.panda.org</th>\n      <td>1</td>\n      <td>0</td>\n      <td>0</td>\n      <td>0</td>\n      <td>0</td>\n      <td>0</td>\n    </tr>\n    <tr>\n      <th>www.100webspace.com</th>\n      <td>1</td>\n      <td>0</td>\n      <td>0</td>\n      <td>0</td>\n      <td>0</td>\n      <td>0</td>\n    </tr>\n    <tr>\n      <th>www.150m.com</th>\n      <td>1</td>\n      <td>0</td>\n      <td>0</td>\n      <td>0</td>\n      <td>0</td>\n      <td>0</td>\n    </tr>\n    <tr>\n      <th>www.163.com</th>\n      <td>0</td>\n      <td>2</td>\n      <td>0</td>\n      <td>0</td>\n      <td>0</td>\n      <td>0</td>\n    </tr>\n    <tr>\n      <th>www.1800respect.org.au</th>\n      <td>1</td>\n      <td>1</td>\n      <td>0</td>\n      <td>0</td>\n      <td>0</td>\n      <td>0</td>\n    </tr>\n    <tr>\n      <th>www.1and1.com</th>\n      <td>1</td>\n      <td>0</td>\n      <td>0</td>\n      <td>0</td>\n      <td>0</td>\n      <td>0</td>\n    </tr>\n    <tr>\n      <th>turbobit.net</th>\n      <td>3</td>\n      <td>0</td>\n      <td>0</td>\n      <td>0</td>\n      <td>0</td>\n      <td>0</td>\n    </tr>\n    <tr>\n      <th>translator.babylon-software.com</th>\n      <td>1</td>\n      <td>0</td>\n      <td>0</td>\n      <td>0</td>\n      <td>0</td>\n      <td>0</td>\n    </tr>\n    <tr>\n      <th>trello.com</th>\n      <td>0</td>\n      <td>1</td>\n      <td>0</td>\n      <td>0</td>\n      <td>0</td>\n      <td>0</td>\n    </tr>\n    <tr>\n      <th>sites.google.com</th>\n      <td>0</td>\n      <td>3</td>\n      <td>0</td>\n      <td>0</td>\n      <td>0</td>\n      <td>0</td>\n    </tr>\n    <tr>\n      <th>sfsi.org</th>\n      <td>2</td>\n      <td>1</td>\n      <td>0</td>\n      <td>0</td>\n      <td>0</td>\n      <td>0</td>\n    </tr>\n    <tr>\n      <th>shadowsocks.org</th>\n      <td>1</td>\n      <td>1</td>\n      <td>0</td>\n      <td>0</td>\n      <td>0</td>\n      <td>0</td>\n    </tr>\n  </tbody>\n</table>\n</div>"
     },
     "metadata": {}
    }
   ],
   "source": [
    "pivot = pd.pivot_table(obs, index=['domain'], columns=['client_asn', 'eval'], values=[], aggfunc=len, fill_value=0)\n",
    "# pivot = pivot.reindex(top_sites.index).sort_index(axis='columns', level=1, ascending=False, key=lambda l: top_statuses[l])[top_ases.index]\n",
    "pivot = pivot.reindex(top_domains.index).reindex(pd.MultiIndex.from_product([top_ases.index, top_evals.index]), axis='columns', fill_value=0)\n",
    "with pd.option_context('display.max_rows', 150, 'display.max_columns', 24):\n",
    "    display(pivot.iloc[:100, :24])\n"
   ]
  },
  {
   "source": [
    "### Top domains per evaluation status"
   ],
   "cell_type": "markdown",
   "metadata": {}
  },
  {
   "cell_type": "code",
   "execution_count": 133,
   "metadata": {},
   "outputs": [
    {
     "output_type": "stream",
     "name": "stdout",
     "text": [
      "======= AS27725 ======\n----- BAD_STATUS_NXDOMAIN ------\n"
     ]
    },
    {
     "output_type": "display_data",
     "data": {
      "text/plain": "www.dharmanet.org            4\noccupystreams.org            2\nwww.fidh.org                 2\nwww.gearthblog.com           2\nwww.911truth.org             2\nwww.judaismconversion.org    2\nwww.netflix.com              2\nwww.3wishes.com              2\nwww.ilhr.org                 2\nwww.tiktok.com               2\nkrishna.com                  2\nwww.hackhull.com             2\nwww.ushmm.org                2\nwww.feedtheminds.org         2\nwww.mytrans.com.tw           2\nwww.nsa.gov                  2\nwww.topdrawers.com           2\nName: domain, dtype: int64"
     },
     "metadata": {}
    },
    {
     "output_type": "stream",
     "name": "stdout",
     "text": [
      "\n----- BAD_STATUS_SERVFAIL ------\n"
     ]
    },
    {
     "output_type": "display_data",
     "data": {
      "text/plain": "www.topdrawers.com    2\nName: domain, dtype: int64"
     },
     "metadata": {}
    },
    {
     "output_type": "stream",
     "name": "stdout",
     "text": [
      "\n----- INCONCLUSIVE_BAD_CONTROL ------\n"
     ]
    },
    {
     "output_type": "display_data",
     "data": {
      "text/plain": "crackspider.net            6\nwww.islamdoor.com          4\nwww.latinmail.com          4\nshareaza.com               4\nmarijuana.nl               2\nwww.videogamereview.com    2\nthepiratebay.se            2\ndelicious.com              2\nimesh.com                  2\nwww.eelam.com              2\nwww.belmont.ag             2\nwww.layevangelism.com      2\nmitm.watch                 2\nwww.modemmujer.org         1\nwww.diariodecuba.co        1\nwww.primaveradecuba.org    1\nName: domain, dtype: int64"
     },
     "metadata": {}
    },
    {
     "output_type": "stream",
     "name": "stdout",
     "text": [
      "\n----- INCONCLUSIVE_CHECK_IPS ------\n"
     ]
    },
    {
     "output_type": "display_data",
     "data": {
      "text/plain": "www.google.com              13\nen.wikipedia.org             8\nwww.state.gov                8\nwww.facebook.com             7\nwww.xbox.com                 6\nwww.who.int                  6\nwww.cdc.gov                  5\nwww.viber.com                5\nwww.unwomen.org              5\nwww.bacardi.com              5\nwww.wordreference.com        4\nwww.newnownext.com           4\nwww.nytimes.com              4\nwww.dailymail.co.uk          4\nwww.economist.com            4\ntranslate.google.com         4\nwww.bbc.com                  4\nteenadvice.about.com         4\ngroups.google.com            4\nwww.whatsapp.com             4\nwww.last.fm                  3\nwww.epa.gov                  3\nonline.wsj.com               3\nwww.casinotropez.com         3\nmail.yahoo.com               3\nwww.nbcnews.com              3\nwww.cia.gov                  3\nwww.bittorrent.com           3\nwww.rackspace.com            3\nwww.aljazeera.net            3\nja.wikipedia.org             3\ndocs.google.com              3\nwww.nato.int                 3\nmessages.android.com         3\npbs.twimg.com                3\nwww.messenger.com            3\nwww.ecdc.europa.eu           3\nwww.theguardian.com          3\ngroups.yahoo.com             3\nwww.imf.org                  3\nwww.ecequality.org           3\nwww.quantico.marines.mil     3\ncommons.wikimedia.org        3\nblogspot.com                 3\nwww.uber.com                 3\nwww.navy.mil                 3\nsignal.org                   3\nwww.privaterra.org           3\nallo.google.com              3\nwww.youtube.com              3\nName: domain, dtype: int64"
     },
     "metadata": {}
    },
    {
     "output_type": "stream",
     "name": "stdout",
     "text": [
      "\n----- OK_MATCHES_CONTROL_ERROR ------\n"
     ]
    },
    {
     "output_type": "display_data",
     "data": {
      "text/plain": "www.blacksandjews.com     4\nvoice.yahoo.jajah.com     4\nwww.wallpapergate.com     4\nwww.eln-voces.com         2\nwebmail.sso.bluewin.ch    2\nwarc.jalb.de              2\nsci-hub.tw                2\nwww.bearshare.com         2\ndebate.org.uk             2\nwww.pgp.com               2\nwww.malware.com           2\ndeoxy.org                 2\nwww.ahram.org.eg          2\nName: domain, dtype: int64"
     },
     "metadata": {}
    },
    {
     "output_type": "stream",
     "name": "stdout",
     "text": [
      "\n----- OK_MATCHES_CONTROL_IP ------\n"
     ]
    },
    {
     "output_type": "display_data",
     "data": {
      "text/plain": "twitter.com                   8\nwww.un.org                    6\nwww.ohchr.org                 6\nwww.unfpa.org                 5\nwww.worldrtd.net              4\nwww.vatican.va                4\nwww.lgbtqnation.com           4\nwww.xroxy.com                 4\nwww.sexandu.ca                4\nwww.backtrack-linux.org       3\nlambdalegal.org               3\nwww3.iaisite.org              3\nwww.oic-oci.org               3\nwww.eea.europa.eu             3\nwww.democracynow.org          3\nwww.ananzi.co.za              3\nwww.premaritalsex.info        3\nwww.well.com                  3\ncommon-fund.org               3\nwww.worldwildlife.org         3\nwww.jhr.ca                    3\nwww.linkedin.com              3\nwww.tawk.to                   3\nwww.msf.org                   3\ninstinctmagazine.com          3\nwww.clubdicecasino.com        3\nwww.agentprovocateur.com      3\nxxx.lanl.gov                  3\nwww.tialsoft.com              3\nwww.ectaco.com                3\nwww.wftucentral.org           3\nwww.ifex.org                  3\nwww.netaddress.com            3\ntranslation.langenberg.com    3\nicao.maps.arcgis.com          3\npacketstormsecurity.com       3\nwww.securitytracker.com       3\ndashjr.org                    3\nultrasurf.us                  3\nweb.archive.org               3\nnypost.com                    3\nhrlibrary.umn.edu             3\nwww.ijm.org                   3\nemailaddresses.com            3\nhightimes.com                 3\nturbobit.net                  3\nwww.hushmail.com              3\nabc.go.com                    3\nwww.islameyat.com             3\nwww.coinbase.com              3\nName: domain, dtype: int64"
     },
     "metadata": {}
    },
    {
     "output_type": "stream",
     "name": "stdout",
     "text": [
      "\n\n"
     ]
    }
   ],
   "source": [
    "for asn, asn_df in obs.groupby(by='client_asn'):\n",
    "    print(f'======= AS{asn} ======')\n",
    "    for result, result_df in asn_df.groupby(by='eval'):\n",
    "        print(f'----- {result} ------')\n",
    "        with pd.option_context('display.max_rows', 50):\n",
    "            display(result_df['domain'].value_counts()[:50])\n",
    "        print()\n",
    "    print()\n",
    "    "
   ]
  },
  {
   "source": [
    "### No interference for telegram.org\n",
    "\n",
    "There was no DNS interference for the 3 `telegram.org` queries from 2 tests. The IPv4 results match the control and we validate the IPv6 one using curl."
   ],
   "cell_type": "markdown",
   "metadata": {}
  },
  {
   "cell_type": "code",
   "execution_count": 128,
   "metadata": {},
   "outputs": [
    {
     "output_type": "execute_result",
     "data": {
      "text/plain": [
       "                          time  client_asn  resolver_asn query_type failure  \\\n",
       "1877 2020-10-26 05:41:13+00:00       27725         27725          A    None   \n",
       "2383 2020-10-22 20:52:44+00:00       27725         27725       AAAA    None   \n",
       "2382 2020-10-22 20:52:44+00:00       27725         27725          A    None   \n",
       "\n",
       "                                                answers  \\\n",
       "1877                   [149.154.167.99, 149.154.167.99]   \n",
       "2383  [2001:67c:4e8:1033:4:100:0:a, 2001:67c:4e8:103...   \n",
       "2382                                   [149.154.167.99]   \n",
       "\n",
       "                        eval  \n",
       "1877   OK_MATCHES_CONTROL_IP  \n",
       "2383  INCONCLUSIVE_CHECK_IPS  \n",
       "2382   OK_MATCHES_CONTROL_IP  "
      ],
      "text/html": "<div>\n<style scoped>\n    .dataframe tbody tr th:only-of-type {\n        vertical-align: middle;\n    }\n\n    .dataframe tbody tr th {\n        vertical-align: top;\n    }\n\n    .dataframe thead th {\n        text-align: right;\n    }\n</style>\n<table border=\"1\" class=\"dataframe\">\n  <thead>\n    <tr style=\"text-align: right;\">\n      <th></th>\n      <th>time</th>\n      <th>client_asn</th>\n      <th>resolver_asn</th>\n      <th>query_type</th>\n      <th>failure</th>\n      <th>answers</th>\n      <th>eval</th>\n    </tr>\n  </thead>\n  <tbody>\n    <tr>\n      <th>1877</th>\n      <td>2020-10-26 05:41:13+00:00</td>\n      <td>27725</td>\n      <td>27725</td>\n      <td>A</td>\n      <td>None</td>\n      <td>[149.154.167.99, 149.154.167.99]</td>\n      <td>OK_MATCHES_CONTROL_IP</td>\n    </tr>\n    <tr>\n      <th>2383</th>\n      <td>2020-10-22 20:52:44+00:00</td>\n      <td>27725</td>\n      <td>27725</td>\n      <td>AAAA</td>\n      <td>None</td>\n      <td>[2001:67c:4e8:1033:4:100:0:a, 2001:67c:4e8:103...</td>\n      <td>INCONCLUSIVE_CHECK_IPS</td>\n    </tr>\n    <tr>\n      <th>2382</th>\n      <td>2020-10-22 20:52:44+00:00</td>\n      <td>27725</td>\n      <td>27725</td>\n      <td>A</td>\n      <td>None</td>\n      <td>[149.154.167.99]</td>\n      <td>OK_MATCHES_CONTROL_IP</td>\n    </tr>\n  </tbody>\n</table>\n</div>"
     },
     "metadata": {},
     "execution_count": 128
    }
   ],
   "source": [
    "obs[obs['domain'] == 'telegram.org'][['time', 'client_asn', 'resolver_asn', 'query_type', 'failure', 'answers', 'eval']]"
   ]
  },
  {
   "cell_type": "code",
   "execution_count": 132,
   "metadata": {},
   "outputs": [
    {
     "output_type": "stream",
     "name": "stdout",
     "text": [
      "OK\n"
     ]
    }
   ],
   "source": [
    "!curl -s --connect-to ::[2001:67c:4e8:1033:4:100:0:a]: https://telegram.org > /dev/null && echo 'OK' || echo 'FAIL'"
   ]
  },
  {
   "source": [
    "### One domain with SERVFAIL\n",
    "\n",
    "The domain `www.topdrawers.com` was the only one with a good control to show a non-NXDOMAIN error, even though it also had a clear NXDOMAIN. We are not 100% sure, but the failure message suggests it's SERVFAIL because it says \"usually a temporary error\" and \"the local server did not receive a response from an authoritative server\", both of with are not the case for NXDOMAIN."
   ],
   "cell_type": "markdown",
   "metadata": {}
  },
  {
   "cell_type": "code",
   "execution_count": 142,
   "metadata": {},
   "outputs": [
    {
     "output_type": "display_data",
     "data": {
      "text/plain": "                          time  client_asn  resolver_asn query_type  \\\n1897 2020-10-26 05:51:29+00:00       27725         27725          A   \n1898 2020-10-26 05:51:29+00:00       27725         27725       AAAA   \n98   2020-10-22 19:06:14+00:00       27725         27725          A   \n99   2020-10-22 19:06:14+00:00       27725         27725       AAAA   \n\n                                                                                                                                                                                                              failure  \\\n1897  unknown_failure: lookup www.topdrawers.com: getaddrinfow: This is usually a temporary error during hostname resolution and means that the local server did not receive a response from an authoritative server.   \n1898  unknown_failure: lookup www.topdrawers.com: getaddrinfow: This is usually a temporary error during hostname resolution and means that the local server did not receive a response from an authoritative server.   \n98                                                                                                                                                                                                 dns_nxdomain_error   \n99                                                                                                                                                                                                 dns_nxdomain_error   \n\n     answers                 eval  \n1897    None  BAD_STATUS_SERVFAIL  \n1898    None  BAD_STATUS_SERVFAIL  \n98      None  BAD_STATUS_NXDOMAIN  \n99      None  BAD_STATUS_NXDOMAIN  ",
      "text/html": "<div>\n<style scoped>\n    .dataframe tbody tr th:only-of-type {\n        vertical-align: middle;\n    }\n\n    .dataframe tbody tr th {\n        vertical-align: top;\n    }\n\n    .dataframe thead th {\n        text-align: right;\n    }\n</style>\n<table border=\"1\" class=\"dataframe\">\n  <thead>\n    <tr style=\"text-align: right;\">\n      <th></th>\n      <th>time</th>\n      <th>client_asn</th>\n      <th>resolver_asn</th>\n      <th>query_type</th>\n      <th>failure</th>\n      <th>answers</th>\n      <th>eval</th>\n    </tr>\n  </thead>\n  <tbody>\n    <tr>\n      <th>1897</th>\n      <td>2020-10-26 05:51:29+00:00</td>\n      <td>27725</td>\n      <td>27725</td>\n      <td>A</td>\n      <td>unknown_failure: lookup www.topdrawers.com: getaddrinfow: This is usually a temporary error during hostname resolution and means that the local server did not receive a response from an authoritative server.</td>\n      <td>None</td>\n      <td>BAD_STATUS_SERVFAIL</td>\n    </tr>\n    <tr>\n      <th>1898</th>\n      <td>2020-10-26 05:51:29+00:00</td>\n      <td>27725</td>\n      <td>27725</td>\n      <td>AAAA</td>\n      <td>unknown_failure: lookup www.topdrawers.com: getaddrinfow: This is usually a temporary error during hostname resolution and means that the local server did not receive a response from an authoritative server.</td>\n      <td>None</td>\n      <td>BAD_STATUS_SERVFAIL</td>\n    </tr>\n    <tr>\n      <th>98</th>\n      <td>2020-10-22 19:06:14+00:00</td>\n      <td>27725</td>\n      <td>27725</td>\n      <td>A</td>\n      <td>dns_nxdomain_error</td>\n      <td>None</td>\n      <td>BAD_STATUS_NXDOMAIN</td>\n    </tr>\n    <tr>\n      <th>99</th>\n      <td>2020-10-22 19:06:14+00:00</td>\n      <td>27725</td>\n      <td>27725</td>\n      <td>AAAA</td>\n      <td>dns_nxdomain_error</td>\n      <td>None</td>\n      <td>BAD_STATUS_NXDOMAIN</td>\n    </tr>\n  </tbody>\n</table>\n</div>"
     },
     "metadata": {}
    }
   ],
   "source": [
    "with pd.option_context('display.max_colwidth', 300):\n",
    "    display(obs[obs['domain'] == 'www.topdrawers.com'][['time', 'client_asn', 'resolver_asn', 'query_type', 'failure', 'answers', 'eval']])"
   ]
  },
  {
   "source": [
    "None of the 2 measurements open on the OONI Explorer"
   ],
   "cell_type": "markdown",
   "metadata": {}
  },
  {
   "cell_type": "code",
   "execution_count": 138,
   "metadata": {},
   "outputs": [
    {
     "output_type": "execute_result",
     "data": {
      "text/plain": [
       "{'https://explorer.ooni.org/measurement/20201022T184640Z_webconnectivity_CU_27725_n1_zZuyMmN3UrmI0ng4?input=http%3A%2F%2Fwww.topdrawers.com%2F',\n",
       " 'https://explorer.ooni.org/measurement/20201026T053844Z_webconnectivity_CU_27725_n1_g5rXUtF8oUXfAqVV?input=http%3A%2F%2Fwww.topdrawers.com%2F'}"
      ]
     },
     "metadata": {},
     "execution_count": 138
    }
   ],
   "source": [
    "set(obs[obs['domain'] == 'www.topdrawers.com']['explorer_url'].to_list())"
   ]
  },
  {
   "source": [
    "### Inconclusive IPs\n",
    "\n",
    "T"
   ],
   "cell_type": "markdown",
   "metadata": {}
  },
  {
   "cell_type": "code",
   "execution_count": 172,
   "metadata": {},
   "outputs": [
    {
     "output_type": "display_data",
     "data": {
      "text/plain": "www.google.com                   13\nen.wikipedia.org                  8\nwww.state.gov                     8\nwww.facebook.com                  7\nwww.xbox.com                      6\nwww.who.int                       6\nwww.cdc.gov                       5\nwww.viber.com                     5\nwww.unwomen.org                   5\nwww.bacardi.com                   5\nwww.wordreference.com             4\nwww.newnownext.com                4\nwww.nytimes.com                   4\nwww.dailymail.co.uk               4\nwww.economist.com                 4\ntranslate.google.com              4\nwww.bbc.com                       4\nteenadvice.about.com              4\ngroups.google.com                 4\nwww.whatsapp.com                  4\nwww.last.fm                       3\nwww.epa.gov                       3\nonline.wsj.com                    3\nwww.casinotropez.com              3\nmail.yahoo.com                    3\nwww.nbcnews.com                   3\nwww.cia.gov                       3\nwww.bittorrent.com                3\nwww.rackspace.com                 3\nwww.aljazeera.net                 3\nja.wikipedia.org                  3\ndocs.google.com                   3\nwww.nato.int                      3\nmessages.android.com              3\npbs.twimg.com                     3\nwww.messenger.com                 3\nwww.ecdc.europa.eu                3\nwww.theguardian.com               3\ngroups.yahoo.com                  3\nwww.imf.org                       3\nwww.ecequality.org                3\nwww.quantico.marines.mil          3\ncommons.wikimedia.org             3\nblogspot.com                      3\nwww.uber.com                      3\nwww.navy.mil                      3\nsignal.org                        3\nwww.privaterra.org                3\nallo.google.com                   3\nwww.youtube.com                   3\nen.m.wikipedia.org                3\nwww.flickr.com                    3\nwww.urduvoa.com                   3\nwww.europacasino.com              3\nwww.hidemyass.com                 3\nwww.aljazeera.com                 3\nwww.xroxy.com                     3\nwww.centcom.mil                   3\nwww.nbc.com                       3\nletsencrypt.org                   3\nocsp.int-x3.letsencrypt.org       3\nwww.reuters.com                   3\nwww.eveonline.com                 3\nwww.zeit.de                       3\nwww.projectbaseline.com           3\nsites.google.com                  3\nwww.infomigrants.net              3\nabs.twimg.com                     3\nwikidata.org                      3\nwww.altavista.com                 3\nwww.absolut.com                   2\nmetasploit.com                    2\nwww.af.mil                        2\npt.m.wikipedia.org                2\nwww.groupon.com                   2\nwww.rfi.fr                        2\nwww.unfpa.org                     2\napp.developer.here.com            2\na1408.g.akamai.net                2\nfreenetproject.org                2\nwww.bahai.org                     2\nwww.livejournal.com               2\nwww.tmz.com                       2\nwww.avert.org                     2\nwww.ned.org                       2\nwww.csmonitor.com                 2\nzh.wikipedia.org                  2\nwww.yahoo.com                     2\nwww.ted.com                       2\nwww.haaretz.com                   2\nmedicinacubana.blogspot.com       2\nwww.dw.com                        2\nwww.cnn.com                       2\nwww.gamespot.com                  2\nwww.instagram.com                 2\nwww.dw-world.de                   2\nwww.dating.com                    2\nwww.gmail.com                     2\nwww.exgay.com                     2\nrsf.org                           2\ncompany.wizards.com               2\nwww.hacktivismo.com               2\nwww.dropbox.com                   2\nwww.getdrupe.com                  2\nwww.walmart.com                   2\nwww.blogger.com                   2\nwww.dea.gov                       2\npicasa.google.com                 2\nwww.no-porn.com                   2\nwww.zoho.com                      2\nwww.stratcom.mil                  2\nar.wikipedia.org                  2\nencrypted.google.com              2\nwww.army.mil                      2\nwww.uscg.mil                      2\nwww.eurogrand.com                 2\nwww.163.com                       2\nlifestream.aol.com                2\nwww.sexandu.ca                    2\nwww.acdi-cida.gc.ca               2\npeta.xxx                          2\nworldsingles.com                  2\nwww.cbsnews.com                   2\nes.wikipedia.org                  2\nwww.slideshare.net                2\nwww.foxnews.com                   2\nwww.ebay.com                      2\nvideo.google.com                  2\nwww.bing.com                      2\nwww.stumbleupon.com               2\nimgur.com                         2\ngmail.com                         2\nwww.eff.org                       2\nwww.fondationdefrance.org         2\nwww.dfid.gov.uk                   2\ndoubleclick.net                   2\nnews.google.com                   2\nde.wikipedia.org                  2\nwww.interpol.int                  2\nwww.wikipedia.org                 2\nwww.paganpride.org                2\nwww.honduras.com                  2\nwww.themwl.org                    2\nwww.rotten.com                    2\nwww.ft.com                        2\nwww.om.org                        2\ntranslate.reference.com           2\nsavefrom.net                      2\nwww.slotland.com                  2\nwww.rferl.org                     2\nwww.apple.com                     2\nwww.piratenpartei.ch              2\nsupport.therapytribe.com          2\ndcemail.com                       2\nca.wikipedia.org                  2\nwww.gamenode.com                  2\nwww.jfcom.mil                     2\nwww.mainichi.co.jp                2\nwww.scribd.com                    2\nwww.altpenis.com                  2\nru.wikipedia.org                  2\nzoom.us                           2\nwww.privateinternetaccess.com     2\nwww.terredeshommes.nl             2\nwww.martus.org                    2\nwww.nature.org                    2\nwww.pinkcupid.com                 2\nmashable.com                      2\nar.m.wikipedia.org                2\nultrasurf.us                      2\nwww.godaddy.com                   2\nwww.jhr.ca                        2\nwww.hrw.org                       2\nplus.google.com                   2\nwww.dd-rd.ca                      2\nwww.darpa.mil                     2\nwww.venus.com                     2\nglobal.blackberry.com             2\nwww.rfa.org                       2\ntimesofindia.indiatimes.com       2\nwww.defense.gov                   2\nwww.eharmony.com                  2\nwww.meetup.com                    2\nwww.pacom.mil                     2\nwww.usafa.af.mil                  2\nwww.people.com.cn                 2\nit.wikipedia.org                  2\nwww.mail.com                      2\nwww.rockstargames.com             2\nwww.bbc.co.uk                     2\nwww.xinhuanet.com                 2\nwww.usaid.gov                     2\nwww.huffingtonpost.com            2\nthehackernews.com                 2\nwww.cfr.org                       2\nwww.getoutline.org                2\nwww.mormon.org                    2\nwww.snapchat.com                  2\nwww.nsa.gov                       2\nwww.weforum.org                   2\nName: domain, dtype: int64"
     },
     "metadata": {}
    }
   ],
   "source": [
    "with pd.option_context('display.max_rows', 200):\n",
    "    display(obs[obs['eval'] == 'INCONCLUSIVE_CHECK_IPS']['domain'].value_counts()[:200])"
   ]
  },
  {
   "cell_type": "code",
   "execution_count": 168,
   "metadata": {},
   "outputs": [
    {
     "output_type": "execute_result",
     "data": {
      "text/plain": [
       "                          time  client_asn  resolver_asn query_type failure  \\\n",
       "1760 2020-10-28 23:59:49+00:00       27725         27725          A    None   \n",
       "803  2020-10-22 21:10:14+00:00       27725         27725       AAAA    None   \n",
       "802  2020-10-22 21:10:14+00:00       27725         27725          A    None   \n",
       "\n",
       "                                           answers                    eval  \n",
       "1760                [104.18.88.225, 104.18.87.225]   OK_MATCHES_CONTROL_IP  \n",
       "803   [2606:4700::6812:58e1, 2606:4700::6812:57e1]  INCONCLUSIVE_CHECK_IPS  \n",
       "802                 [104.18.87.225, 104.18.88.225]   OK_MATCHES_CONTROL_IP  "
      ],
      "text/html": "<div>\n<style scoped>\n    .dataframe tbody tr th:only-of-type {\n        vertical-align: middle;\n    }\n\n    .dataframe tbody tr th {\n        vertical-align: top;\n    }\n\n    .dataframe thead th {\n        text-align: right;\n    }\n</style>\n<table border=\"1\" class=\"dataframe\">\n  <thead>\n    <tr style=\"text-align: right;\">\n      <th></th>\n      <th>time</th>\n      <th>client_asn</th>\n      <th>resolver_asn</th>\n      <th>query_type</th>\n      <th>failure</th>\n      <th>answers</th>\n      <th>eval</th>\n    </tr>\n  </thead>\n  <tbody>\n    <tr>\n      <th>1760</th>\n      <td>2020-10-28 23:59:49+00:00</td>\n      <td>27725</td>\n      <td>27725</td>\n      <td>A</td>\n      <td>None</td>\n      <td>[104.18.88.225, 104.18.87.225]</td>\n      <td>OK_MATCHES_CONTROL_IP</td>\n    </tr>\n    <tr>\n      <th>803</th>\n      <td>2020-10-22 21:10:14+00:00</td>\n      <td>27725</td>\n      <td>27725</td>\n      <td>AAAA</td>\n      <td>None</td>\n      <td>[2606:4700::6812:58e1, 2606:4700::6812:57e1]</td>\n      <td>INCONCLUSIVE_CHECK_IPS</td>\n    </tr>\n    <tr>\n      <th>802</th>\n      <td>2020-10-22 21:10:14+00:00</td>\n      <td>27725</td>\n      <td>27725</td>\n      <td>A</td>\n      <td>None</td>\n      <td>[104.18.87.225, 104.18.88.225]</td>\n      <td>OK_MATCHES_CONTROL_IP</td>\n    </tr>\n  </tbody>\n</table>\n</div>"
     },
     "metadata": {},
     "execution_count": 168
    }
   ],
   "source": [
    "obs[obs['domain'] == 'psiphon.ca'][['time', 'client_asn', 'resolver_asn', 'query_type', 'failure', 'answers', 'eval']]"
   ]
  },
  {
   "cell_type": "code",
   "execution_count": 163,
   "metadata": {},
   "outputs": [
    {
     "output_type": "execute_result",
     "data": {
      "text/plain": [
       "                          time  client_asn  resolver_asn query_type failure  \\\n",
       "2575 2020-10-31 07:20:55+00:00       27725             0          A    None   \n",
       "1254 2020-10-23 13:23:25+00:00       27725         27725          A    None   \n",
       "2483 2020-10-22 20:54:23+00:00       27725         27725          A    None   \n",
       "2484 2020-10-22 20:54:23+00:00       27725         27725       AAAA    None   \n",
       "\n",
       "                                   answers                    eval  \n",
       "2575                       [157.240.14.52]  INCONCLUSIVE_CHECK_IPS  \n",
       "1254                         [31.13.67.52]  INCONCLUSIVE_CHECK_IPS  \n",
       "2483                       [157.240.14.52]  INCONCLUSIVE_CHECK_IPS  \n",
       "2484  [2a03:2880:f22c:1c5:face:b00c:0:167]  INCONCLUSIVE_CHECK_IPS  "
      ],
      "text/html": "<div>\n<style scoped>\n    .dataframe tbody tr th:only-of-type {\n        vertical-align: middle;\n    }\n\n    .dataframe tbody tr th {\n        vertical-align: top;\n    }\n\n    .dataframe thead th {\n        text-align: right;\n    }\n</style>\n<table border=\"1\" class=\"dataframe\">\n  <thead>\n    <tr style=\"text-align: right;\">\n      <th></th>\n      <th>time</th>\n      <th>client_asn</th>\n      <th>resolver_asn</th>\n      <th>query_type</th>\n      <th>failure</th>\n      <th>answers</th>\n      <th>eval</th>\n    </tr>\n  </thead>\n  <tbody>\n    <tr>\n      <th>2575</th>\n      <td>2020-10-31 07:20:55+00:00</td>\n      <td>27725</td>\n      <td>0</td>\n      <td>A</td>\n      <td>None</td>\n      <td>[157.240.14.52]</td>\n      <td>INCONCLUSIVE_CHECK_IPS</td>\n    </tr>\n    <tr>\n      <th>1254</th>\n      <td>2020-10-23 13:23:25+00:00</td>\n      <td>27725</td>\n      <td>27725</td>\n      <td>A</td>\n      <td>None</td>\n      <td>[31.13.67.52]</td>\n      <td>INCONCLUSIVE_CHECK_IPS</td>\n    </tr>\n    <tr>\n      <th>2483</th>\n      <td>2020-10-22 20:54:23+00:00</td>\n      <td>27725</td>\n      <td>27725</td>\n      <td>A</td>\n      <td>None</td>\n      <td>[157.240.14.52]</td>\n      <td>INCONCLUSIVE_CHECK_IPS</td>\n    </tr>\n    <tr>\n      <th>2484</th>\n      <td>2020-10-22 20:54:23+00:00</td>\n      <td>27725</td>\n      <td>27725</td>\n      <td>AAAA</td>\n      <td>None</td>\n      <td>[2a03:2880:f22c:1c5:face:b00c:0:167]</td>\n      <td>INCONCLUSIVE_CHECK_IPS</td>\n    </tr>\n  </tbody>\n</table>\n</div>"
     },
     "metadata": {},
     "execution_count": 163
    }
   ],
   "source": [
    "obs[obs['domain'] == 'www.whatsapp.com'][['time', 'client_asn', 'resolver_asn', 'query_type', 'failure', 'answers', 'eval']]"
   ]
  },
  {
   "cell_type": "code",
   "execution_count": 164,
   "metadata": {},
   "outputs": [
    {
     "output_type": "stream",
     "name": "stdout",
     "text": [
      "OK\n"
     ]
    }
   ],
   "source": [
    "!curl -s --connect-to ::157.240.14.52: https://www.whatsapp.com > /dev/null && echo 'OK' || echo 'FAIL'"
   ]
  },
  {
   "source": [
    "### Analyzing the resolvers\n",
    "\n",
    "We try to query the resolvers directly, but unfortunately they are not accessible from outside the network, so we can't do tests from the outside."
   ],
   "cell_type": "markdown",
   "metadata": {}
  },
  {
   "cell_type": "code",
   "execution_count": 143,
   "metadata": {},
   "outputs": [
    {
     "output_type": "execute_result",
     "data": {
      "text/plain": [
       "client_asn  resolver_asn  resolver_ip   \n",
       "27725       27725         127.0.0.2         2481\n",
       "            0             200.55.128.252      31\n",
       "                          200.55.128.187      26\n",
       "                          200.55.128.162      18\n",
       "            27725         200.55.128.245      17\n",
       "            0             200.55.128.155       3\n",
       "dtype: int64"
      ]
     },
     "metadata": {},
     "execution_count": 143
    }
   ],
   "source": [
    "obs[['client_asn', 'resolver_asn', 'resolver_ip']].value_counts()"
   ]
  },
  {
   "cell_type": "code",
   "execution_count": 144,
   "metadata": {},
   "outputs": [
    {
     "output_type": "stream",
     "name": "stdout",
     "text": [
      "\n; <<>> DiG 9.10.6 <<>> @200.55.128.252 www.tiktok.com\n; (1 server found)\n;; global options: +cmd\n;; connection timed out; no servers could be reached\n"
     ]
    }
   ],
   "source": [
    "!dig @200.55.128.252 www.tiktok.com"
   ]
  },
  {
   "source": [
    "We observe that the resolvers used are ISP resolvers. "
   ],
   "cell_type": "markdown",
   "metadata": {}
  },
  {
   "cell_type": "code",
   "execution_count": 154,
   "metadata": {},
   "outputs": [
    {
     "output_type": "stream",
     "name": "stdout",
     "text": [
      "{\n  \"ip\": \"200.55.128.252\",\n  \"city\": \"Havana\",\n  \"region\": \"Havana\",\n  \"country\": \"CU\",\n  \"loc\": \"23.1330,-82.3830\",\n  \"org\": \"AS27725 Empresa de Telecomunicaciones de Cuba, S.A.\",\n  \"timezone\": \"America/Havana\",\n  \"readme\": \"https://ipinfo.io/missingauth\"\n}"
     ]
    }
   ],
   "source": [
    "! curl https://ipinfo.io/200.55.128.252"
   ]
  },
  {
   "cell_type": "code",
   "execution_count": 153,
   "metadata": {},
   "outputs": [
    {
     "output_type": "execute_result",
     "data": {
      "text/plain": [
       "resolver_ip     resolver_asn  status                                       \n",
       "127.0.0.2       27725         NXDOMAIN                                           94\n",
       "                              OK                                               2375\n",
       "                              SERVFAIL                                           12\n",
       "200.55.128.155  0             OK                                                  3\n",
       "200.55.128.162  0             OK                                                 16\n",
       "                              dns_host_or_service_not_provided_or_not_known       2\n",
       "200.55.128.187  0             OK                                                 26\n",
       "200.55.128.245  27725         OK                                                 17\n",
       "200.55.128.252  0             OK                                                 30\n",
       "                              dns_resolver_error                                  1\n",
       "dtype: int64"
      ]
     },
     "metadata": {},
     "execution_count": 153
    }
   ],
   "source": [
    "obs[['resolver_ip', 'resolver_asn', 'status']].value_counts(sort=False)"
   ]
  },
  {
   "cell_type": "code",
   "execution_count": null,
   "metadata": {},
   "outputs": [],
   "source": []
  }
 ]
}